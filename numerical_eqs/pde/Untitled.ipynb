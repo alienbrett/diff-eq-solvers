{
 "cells": [
  {
   "cell_type": "code",
   "execution_count": 1,
   "id": "5c32d0f3",
   "metadata": {},
   "outputs": [],
   "source": [
    "import numpy as np\n",
    "import scipy\n",
    "import scipy.linalg\n",
    "import pandas as pd\n",
    "import matplotlib.pyplot as plt\n",
    "from tqdm import tqdm\n",
    "\n",
    "from numerical_eqs.utils import SimTime\n",
    "from sdole import SDOLESolver\n",
    "from utils import tridiag_mult\n"
   ]
  },
  {
   "cell_type": "code",
   "execution_count": 2,
   "id": "de518abc",
   "metadata": {},
   "outputs": [
    {
     "data": {
      "text/plain": [
       "{'a': 1, 'b': 1, 'c': 2}"
      ]
     },
     "execution_count": 2,
     "metadata": {},
     "output_type": "execute_result"
    }
   ],
   "source": [
    "{ **{'a':5, 'b': 1}, **{'a': 1, 'c': 2} }"
   ]
  },
  {
   "cell_type": "code",
   "execution_count": 6,
   "id": "7d160253",
   "metadata": {},
   "outputs": [],
   "source": [
    "class DiffusionSolver(SDOLESolver):\n",
    "    \n",
    "    def __init__(self, t0, t1, d_func, e_func):\n",
    "        super().__init__(t0, t1)\n",
    "        self.d_func = d_func\n",
    "        self.e_func = e_func\n",
    "        \n",
    "    def step_raw ( self, t, U, dt ):\n",
    "        '''Takes a single step\n",
    "        '''\n",
    "#         print(U)\n",
    "        theta = 1\n",
    "        \n",
    "        M, S = self.mats\n",
    "        \n",
    "        # Assemble our utility matrix\n",
    "        Q = (M / dt) + (theta * S)\n",
    "\n",
    "        # Solve for our new step size\n",
    "        R = -1 * tridiag_mult(S, U)\n",
    "\n",
    "        \n",
    "\n",
    "        for i, b in zip((0,-1), self.boundaries):\n",
    "            # Set the delta numerically, so that dU + U is known (=f(t)) for t+dt\n",
    "            if b.get('type') == 'dirichlet':\n",
    "                Q[1, -1] = 1\n",
    "                Q[2,-2] = 0\n",
    "                R[i] = b.get('f')(t) - U[i]\n",
    "\n",
    "            # Just add in the flux on the particular side\n",
    "            elif b.get('type') == 'neumann':\n",
    "                R[i] += b.get('f')(t)\n",
    "\n",
    "\n",
    "        dU = scipy.linalg.solve_banded(\n",
    "            (1,1),\n",
    "            Q, R,\n",
    "            overwrite_ab = True,\n",
    "            overwrite_b = True\n",
    "        )\n",
    "\n",
    "        return dU\n",
    "\n",
    "        "
   ]
  },
  {
   "cell_type": "code",
   "execution_count": 21,
   "id": "517f44f8",
   "metadata": {},
   "outputs": [
    {
     "name": "stderr",
     "output_type": "stream",
     "text": [
      "\n",
      "  0%|          | 0/1 [00:00<?, ?it/s]\u001b[A\n",
      " 13%|█▎        | 0.1340000000000001/1 [00:00<00:00,  1.34it/s]\u001b[A\n",
      " 27%|██▋       | 0.2680000000000002/1 [00:00<00:00,  1.12it/s]\u001b[A\n",
      " 39%|███▉      | 0.3890000000000003/1 [00:00<00:00,  1.16it/s]\u001b[A\n",
      " 55%|█████▌    | 0.5530000000000004/1 [00:00<00:00,  1.33it/s]\u001b[A\n",
      " 72%|███████▏  | 0.7180000000000005/1 [00:00<00:00,  1.44it/s]\u001b[A\n",
      "100%|██████████| 1.0/1 [00:00<00:00,  1.42it/s]               \u001b[A\n"
     ]
    }
   ],
   "source": [
    "mesh = np.linspace(0, 10, 15, endpoint=True)\n",
    "u0 = 0 * mesh\n",
    "t0, t1 = (0, 1)\n",
    "\n",
    "boundaries = (\n",
    "    {'type': 'neumann', 'f': lambda t: 0},\n",
    "    {'type': 'dirichlet', 'f': lambda t: np.sin(t)*np.exp(-t)},\n",
    ")\n",
    "dim_func = lambda x: x\n",
    "\n",
    "pde = DiffusionSolver(t0, t1, dim_func, dim_func)\n",
    "res = pde.solve(\n",
    "    u0,\n",
    "    mesh,\n",
    "    boundaries,\n",
    "    time_controls={\n",
    "        'dtmin': 0.001,\n",
    "        'dtmax': 0.1\n",
    "    }\n",
    ")"
   ]
  },
  {
   "cell_type": "code",
   "execution_count": 22,
   "id": "db3a9d82",
   "metadata": {},
   "outputs": [
    {
     "data": {
      "image/png": "[encoded data removed]",
      "text/plain": [
       "<Figure size 432x648 with 2 Axes>"
      ]
     },
     "metadata": {
      "needs_background": "light"
     },
     "output_type": "display_data"
    }
   ],
   "source": [
    "# res['res'][2]\n",
    "fig, axs = plt.subplots(2, figsize=(6,9))\n",
    "axs[0].contourf(\n",
    "    res['res'],\n",
    ")\n",
    "axs[1].plot(\n",
    "    res['res'][:,-1]\n",
    ")\n",
    "plt.plot()\n",
    "None"
   ]
  },
  {
   "cell_type": "code",
   "execution_count": null,
   "id": "480cfdaa",
   "metadata": {},
   "outputs": [],
   "source": []
  }
 ],
 "metadata": {
  "kernelspec": {
   "display_name": "Python 3",
   "language": "python",
   "name": "python3"
  },
  "language_info": {
   "codemirror_mode": {
    "name": "ipython",
    "version": 3
   },
   "file_extension": ".py",
   "mimetype": "text/x-python",
   "name": "python",
   "nbconvert_exporter": "python",
   "pygments_lexer": "ipython3",
   "version": "3.8.8"
  }
 },
 "nbformat": 4,
 "nbformat_minor": 5
}
